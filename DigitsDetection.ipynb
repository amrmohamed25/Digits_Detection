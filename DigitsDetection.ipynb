{
  "nbformat": 4,
  "nbformat_minor": 0,
  "metadata": {
    "colab": {
      "name": "Digits Copy of AI_Project2_MachineLearining.ipynb",
      "provenance": [],
      "collapsed_sections": []
    },
    "kernelspec": {
      "name": "python3",
      "display_name": "Python 3"
    },
    "language_info": {
      "name": "python"
    }
  },
  "cells": [
    {
      "cell_type": "markdown",
      "source": [
        "**Imports and Fetching data from digits Dataset**"
      ],
      "metadata": {
        "id": "gkpSilDdkkVt"
      }
    },
    {
      "cell_type": "code",
      "execution_count": null,
      "metadata": {
        "id": "03-bQJQYQyFS"
      },
      "outputs": [],
      "source": [
        "from numpy import mean\n",
        "from numpy import std\n",
        "from sklearn.decomposition import PCA\n",
        "from sklearn.neighbors import KNeighborsClassifier\n",
        "from sklearn import metrics\n",
        "from sklearn.model_selection import KFold\n",
        "from sklearn.model_selection import cross_val_score\n",
        "from sklearn.model_selection import train_test_split\n",
        "from keras.datasets import mnist\n",
        "\n",
        "(X_train, y_train), (X_test, y_test) = mnist.load_data()"
      ]
    },
    {
      "cell_type": "markdown",
      "source": [
        "**Convert X_train to zero mean and variance of 1 to be easier to use by using the PCA(Principal Component Analysis) to fit the X_train which reduce the variable numbers to smaller number to be easier and faster to deal with, whiten is used to make input less redundent**"
      ],
      "metadata": {
        "id": "WEuD6HXDlyCs"
      }
    },
    {
      "cell_type": "code",
      "source": [
        "# performing preprocessing part\n",
        "from sklearn.preprocessing import StandardScaler\n",
        "sc = StandardScaler()\n",
        "X_train = X_train.reshape(len(X_train), -1) #Converting 2d array to Vector\n",
        "X_train = sc.fit_transform(X_train)\n",
        "\n",
        "X_test = X_test.reshape(len(X_test), -1) #Converting 2d array to Vector\n",
        "X_test = sc.transform(X_test)\n",
        "\n",
        "# Compute a PCA \n",
        "n_components = 75\n",
        "pca = PCA(n_components=n_components, whiten=True).fit(X_train)\n",
        "#n_components -> principal components used in dimensionality reduction\n",
        "#whiten -> it is needed for some algorithms. If we are training on images, the raw input is redundant, \n",
        "#since adjacent pixel values are highly correlated. The goal of whitening is to make the input less redundant\n",
        "# apply PCA transformation\n",
        "X_train_pca = pca.transform(X_train)\n",
        "X_test_pca = pca.transform(X_test)"
      ],
      "metadata": {
        "id": "e4v6mieeX_5d"
      },
      "execution_count": null,
      "outputs": []
    },
    {
      "cell_type": "markdown",
      "source": [
        "**KNN is used which gave an accuracy nearly equal to 0.95**"
      ],
      "metadata": {
        "id": "BToI96NemO97"
      }
    },
    {
      "cell_type": "code",
      "source": [
        "from sklearn.neighbors import KNeighborsClassifier\n",
        "print(\"Fitting the classifier to the training set\")\n",
        "clf = KNeighborsClassifier(n_neighbors=6).fit(X_train_pca, y_train)\n",
        "# from sklearn.naive_bayes import GaussianNB\n",
        "# clf= GaussianNB().fit(X_train, y_train)\n",
        "# clf= GaussianNB().fit(X_train_pca, y_train)\n",
        "#1e-9 -> default variance so when decreasing it , accuracy decreases"
      ],
      "metadata": {
        "id": "FF7TIfTcYCYa",
        "colab": {
          "base_uri": "https://localhost:8080/"
        },
        "outputId": "574e25bb-4eef-421d-e184-eea500d6b725"
      },
      "execution_count": null,
      "outputs": [
        {
          "output_type": "stream",
          "name": "stdout",
          "text": [
            "Fitting the classifier to the training set\n"
          ]
        }
      ]
    },
    {
      "cell_type": "markdown",
      "source": [
        "**Using test in prediction and printing a classification report and an accuracy score**"
      ],
      "metadata": {
        "id": "uu73YaH_meQZ"
      }
    },
    {
      "cell_type": "code",
      "source": [
        "y_pred = clf.predict(X_test_pca)\n",
        "print(metrics.classification_report(y_test, y_pred))\n",
        "print(\"Accuracy:\",metrics.accuracy_score(y_test, y_pred))"
      ],
      "metadata": {
        "colab": {
          "base_uri": "https://localhost:8080/"
        },
        "id": "KFh9LwminnmX",
        "outputId": "01663bb6-8cc0-4eba-edae-b97748408128"
      },
      "execution_count": null,
      "outputs": [
        {
          "output_type": "stream",
          "name": "stdout",
          "text": [
            "              precision    recall  f1-score   support\n",
            "\n",
            "           0       0.96      0.98      0.97       980\n",
            "           1       0.96      0.99      0.98      1135\n",
            "           2       0.95      0.94      0.94      1032\n",
            "           3       0.93      0.95      0.94      1010\n",
            "           4       0.96      0.95      0.96       982\n",
            "           5       0.94      0.94      0.94       892\n",
            "           6       0.97      0.97      0.97       958\n",
            "           7       0.95      0.94      0.95      1028\n",
            "           8       0.95      0.92      0.93       974\n",
            "           9       0.95      0.92      0.93      1009\n",
            "\n",
            "    accuracy                           0.95     10000\n",
            "   macro avg       0.95      0.95      0.95     10000\n",
            "weighted avg       0.95      0.95      0.95     10000\n",
            "\n",
            "Accuracy: 0.9513\n"
          ]
        }
      ]
    },
    {
      "cell_type": "markdown",
      "source": [
        "**KFold is used to cross so that the test data and trained data are merged and the naive bayes model is used**"
      ],
      "metadata": {
        "id": "vosp9aY6mmif"
      }
    },
    {
      "cell_type": "code",
      "source": [
        "for i in range(5,20):\n",
        "  # cv = KFold(n_splits=i, random_state=1, shuffle=True)\n",
        "  cv = KFold(n_splits=i)\n",
        "  scores = cross_val_score(clf, X_train_pca, y_train, scoring='accuracy', cv=cv)\n",
        "  # report performance\n",
        "  print('Accuracy: %.3f (%.3f)' % (mean(scores), std(scores)))\n"
      ],
      "metadata": {
        "colab": {
          "base_uri": "https://localhost:8080/"
        },
        "id": "by6XTQlkUEhD",
        "outputId": "d633cc4d-8751-4a07-cfb7-1ff01d2e0bef"
      },
      "execution_count": null,
      "outputs": [
        {
          "output_type": "stream",
          "name": "stdout",
          "text": [
            "Accuracy: 0.948 (0.002)\n",
            "Accuracy: 0.948 (0.004)\n",
            "Accuracy: 0.949 (0.005)\n",
            "Accuracy: 0.949 (0.005)\n",
            "Accuracy: 0.949 (0.004)\n",
            "Accuracy: 0.949 (0.005)\n",
            "Accuracy: 0.949 (0.006)\n",
            "Accuracy: 0.949 (0.007)\n",
            "Accuracy: 0.949 (0.005)\n",
            "Accuracy: 0.949 (0.005)\n",
            "Accuracy: 0.950 (0.005)\n",
            "Accuracy: 0.949 (0.006)\n",
            "Accuracy: 0.950 (0.006)\n",
            "Accuracy: 0.949 (0.006)\n",
            "Accuracy: 0.950 (0.006)\n"
          ]
        }
      ]
    }
  ]
}